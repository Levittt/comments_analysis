{
  "nbformat": 4,
  "nbformat_minor": 0,
  "metadata": {
    "colab": {
      "name": "comments_analysis.ipynb\"",
      "provenance": [],
      "collapsed_sections": [
        "5thNX5JW8hvO",
        "ndEA3NeBvg5T",
        "K0K1-blFvkpv",
        "wI34nwqCoo1x",
        "Mecvtna5-XsH"
      ],
      "toc_visible": true,
      "mount_file_id": "1U3PhvAF3wCVEib9rJJ0febqI_sld_sZO",
      "authorship_tag": "ABX9TyOdvlUregyYEonPIiSBWBuk",
      "include_colab_link": true
    },
    "kernelspec": {
      "display_name": "Python 3",
      "name": "python3"
    },
    "language_info": {
      "name": "python"
    }
  },
  "cells": [
    {
      "cell_type": "markdown",
      "metadata": {
        "id": "view-in-github",
        "colab_type": "text"
      },
      "source": [
        "<a href=\"https://colab.research.google.com/github/Levittt/comments_analysis/blob/main/comments_analysis_ipynb%22.ipynb\" target=\"_parent\"><img src=\"https://colab.research.google.com/assets/colab-badge.svg\" alt=\"Open In Colab\"/></a>"
      ]
    },
    {
      "cell_type": "code",
      "metadata": {
        "id": "d1rmCxSuOhzM"
      },
      "source": [
        "import numpy as np \n",
        "import pandas as pd \n",
        "from collections import Counter\n",
        "import csv\n",
        "import sys\n",
        "from datetime import date\n",
        "import calendar"
      ],
      "execution_count": null,
      "outputs": []
    },
    {
      "cell_type": "code",
      "metadata": {
        "colab": {
          "base_uri": "https://localhost:8080/"
        },
        "id": "lveVMJnkSI68",
        "outputId": "4637a0d0-612a-4dde-db74-b6ffd2cbd4b9"
      },
      "source": [
        "from google.colab import drive\n",
        "drive.mount('/content/drive/')\n"
      ],
      "execution_count": null,
      "outputs": [
        {
          "output_type": "stream",
          "name": "stdout",
          "text": [
            "Drive already mounted at /content/drive/; to attempt to forcibly remount, call drive.mount(\"/content/drive/\", force_remount=True).\n"
          ]
        }
      ]
    },
    {
      "cell_type": "markdown",
      "metadata": {
        "id": "5thNX5JW8hvO"
      },
      "source": [
        "# Подготовка к работе с датами"
      ]
    },
    {
      "cell_type": "code",
      "metadata": {
        "id": "lJWmA7qz8uXa",
        "colab": {
          "base_uri": "https://localhost:8080/"
        },
        "outputId": "f62dd3f4-8f4d-4cba-c615-ded0eb6d517b"
      },
      "source": [
        "df_pqt = pd.read_parquet('/content/drive/My Drive/ds/fixed_types.pqt')\n",
        "type(df_pqt)"
      ],
      "execution_count": null,
      "outputs": [
        {
          "output_type": "execute_result",
          "data": {
            "text/plain": [
              "pandas.core.frame.DataFrame"
            ]
          },
          "metadata": {},
          "execution_count": 22
        }
      ]
    },
    {
      "cell_type": "code",
      "metadata": {
        "colab": {
          "base_uri": "https://localhost:8080/",
          "height": 204
        },
        "id": "G1iCgbg_SGTg",
        "outputId": "a20c962e-9de5-4ac6-f037-cb48c6638e6a"
      },
      "source": [
        "df_pqt.head(5)"
      ],
      "execution_count": null,
      "outputs": [
        {
          "output_type": "execute_result",
          "data": {
            "text/html": [
              "<div>\n",
              "<style scoped>\n",
              "    .dataframe tbody tr th:only-of-type {\n",
              "        vertical-align: middle;\n",
              "    }\n",
              "\n",
              "    .dataframe tbody tr th {\n",
              "        vertical-align: top;\n",
              "    }\n",
              "\n",
              "    .dataframe thead th {\n",
              "        text-align: right;\n",
              "    }\n",
              "</style>\n",
              "<table border=\"1\" class=\"dataframe\">\n",
              "  <thead>\n",
              "    <tr style=\"text-align: right;\">\n",
              "      <th></th>\n",
              "      <th>Date</th>\n",
              "      <th>Text</th>\n",
              "      <th>Author</th>\n",
              "      <th>Avatar</th>\n",
              "      <th>Video theme</th>\n",
              "    </tr>\n",
              "  </thead>\n",
              "  <tbody>\n",
              "    <tr>\n",
              "      <th>0</th>\n",
              "      <td>2021-10-19 08:41:41</td>\n",
              "      <td>Кое-что из внутренностей:\\n\\n0:01 Зачем мы сня...</td>\n",
              "      <td>вДудь</td>\n",
              "      <td>https://yt3.ggpht.com/ytc/AKedOLSU3Uy11kyFi7Oz...</td>\n",
              "      <td>«Ширли-мырли»</td>\n",
              "    </tr>\n",
              "    <tr>\n",
              "      <th>1</th>\n",
              "      <td>2021-10-19 15:14:19</td>\n",
              "      <td>Неожиданно, но интересно</td>\n",
              "      <td>Татьяна Казымова</td>\n",
              "      <td>https://yt3.ggpht.com/ytc/AKedOLTtW8QETywTGSec...</td>\n",
              "      <td>«Ширли-мырли»</td>\n",
              "    </tr>\n",
              "    <tr>\n",
              "      <th>2</th>\n",
              "      <td>2021-10-19 15:13:39</td>\n",
              "      <td>Господи, что несет эта училка!? Испанский стыд...</td>\n",
              "      <td>pin</td>\n",
              "      <td>https://yt3.ggpht.com/ytc/AKedOLT6oOAa5ws0UZg-...</td>\n",
              "      <td>«Ширли-мырли»</td>\n",
              "    </tr>\n",
              "    <tr>\n",
              "      <th>3</th>\n",
              "      <td>2021-10-19 15:13:32</td>\n",
              "      <td>Тамара Натановна тут. О Боги🥰🥰🥰🤩🤩🤩. Я в прекра...</td>\n",
              "      <td>Rina Прахова</td>\n",
              "      <td>https://yt3.ggpht.com/ytc/AKedOLRmnKx6WiQl-HBp...</td>\n",
              "      <td>«Ширли-мырли»</td>\n",
              "    </tr>\n",
              "    <tr>\n",
              "      <th>4</th>\n",
              "      <td>2021-10-19 15:13:24</td>\n",
              "      <td>Как же приятно послушать Угольникова</td>\n",
              "      <td>Benefactor 3000</td>\n",
              "      <td>https://yt3.ggpht.com/ytc/AKedOLTYElQI7uamvN1v...</td>\n",
              "      <td>«Ширли-мырли»</td>\n",
              "    </tr>\n",
              "  </tbody>\n",
              "</table>\n",
              "</div>"
            ],
            "text/plain": [
              "                 Date  ...    Video theme\n",
              "0 2021-10-19 08:41:41  ...  «Ширли-мырли»\n",
              "1 2021-10-19 15:14:19  ...  «Ширли-мырли»\n",
              "2 2021-10-19 15:13:39  ...  «Ширли-мырли»\n",
              "3 2021-10-19 15:13:32  ...  «Ширли-мырли»\n",
              "4 2021-10-19 15:13:24  ...  «Ширли-мырли»\n",
              "\n",
              "[5 rows x 5 columns]"
            ]
          },
          "metadata": {},
          "execution_count": 3
        }
      ]
    },
    {
      "cell_type": "code",
      "metadata": {
        "id": "yvc6_vmjqs8L"
      },
      "source": [
        "sLength = len(df_pqt['Author'])\n",
        "df_pqt['Weekday'] = pd.Series(np.random.randn(sLength), index=df_pqt.index)\n",
        "df_pqt['Year'] = pd.Series(np.random.randn(sLength), index=df_pqt.index)"
      ],
      "execution_count": null,
      "outputs": []
    },
    {
      "cell_type": "code",
      "metadata": {
        "id": "6KZ5dZioq4YP"
      },
      "source": [
        "df_pqt['Weekday'] = df_pqt['Date'].apply(lambda x: x.weekday())"
      ],
      "execution_count": null,
      "outputs": []
    },
    {
      "cell_type": "code",
      "metadata": {
        "id": "nTDGo2efsL0x"
      },
      "source": [
        "df_pqt['Year'] = df_pqt['Date'].apply(lambda x: x.year)"
      ],
      "execution_count": null,
      "outputs": []
    },
    {
      "cell_type": "code",
      "metadata": {
        "id": "ngHxyutavntV"
      },
      "source": [
        "#Чтобы не мешали\n",
        "del df_pqt['Video theme']"
      ],
      "execution_count": null,
      "outputs": []
    },
    {
      "cell_type": "code",
      "metadata": {
        "colab": {
          "base_uri": "https://localhost:8080/",
          "height": 359
        },
        "id": "lO0FmVNRrJhx",
        "outputId": "bab6c800-4ee7-46ec-819e-2518304ee19e"
      },
      "source": [
        "df_pqt.head(10)"
      ],
      "execution_count": null,
      "outputs": [
        {
          "output_type": "execute_result",
          "data": {
            "text/html": [
              "<div>\n",
              "<style scoped>\n",
              "    .dataframe tbody tr th:only-of-type {\n",
              "        vertical-align: middle;\n",
              "    }\n",
              "\n",
              "    .dataframe tbody tr th {\n",
              "        vertical-align: top;\n",
              "    }\n",
              "\n",
              "    .dataframe thead th {\n",
              "        text-align: right;\n",
              "    }\n",
              "</style>\n",
              "<table border=\"1\" class=\"dataframe\">\n",
              "  <thead>\n",
              "    <tr style=\"text-align: right;\">\n",
              "      <th></th>\n",
              "      <th>Date</th>\n",
              "      <th>Author</th>\n",
              "      <th>Weekday</th>\n",
              "      <th>Year</th>\n",
              "    </tr>\n",
              "  </thead>\n",
              "  <tbody>\n",
              "    <tr>\n",
              "      <th>0</th>\n",
              "      <td>2021-10-19 08:41:41</td>\n",
              "      <td>вДудь</td>\n",
              "      <td>1</td>\n",
              "      <td>2021</td>\n",
              "    </tr>\n",
              "    <tr>\n",
              "      <th>1</th>\n",
              "      <td>2021-10-19 15:14:19</td>\n",
              "      <td>Татьяна Казымова</td>\n",
              "      <td>1</td>\n",
              "      <td>2021</td>\n",
              "    </tr>\n",
              "    <tr>\n",
              "      <th>2</th>\n",
              "      <td>2021-10-19 15:13:39</td>\n",
              "      <td>pin</td>\n",
              "      <td>1</td>\n",
              "      <td>2021</td>\n",
              "    </tr>\n",
              "    <tr>\n",
              "      <th>3</th>\n",
              "      <td>2021-10-19 15:13:32</td>\n",
              "      <td>Rina Прахова</td>\n",
              "      <td>1</td>\n",
              "      <td>2021</td>\n",
              "    </tr>\n",
              "    <tr>\n",
              "      <th>4</th>\n",
              "      <td>2021-10-19 15:13:24</td>\n",
              "      <td>Benefactor 3000</td>\n",
              "      <td>1</td>\n",
              "      <td>2021</td>\n",
              "    </tr>\n",
              "    <tr>\n",
              "      <th>5</th>\n",
              "      <td>2021-10-19 15:13:16</td>\n",
              "      <td>Владислав Бугаёв</td>\n",
              "      <td>1</td>\n",
              "      <td>2021</td>\n",
              "    </tr>\n",
              "    <tr>\n",
              "      <th>6</th>\n",
              "      <td>2021-10-19 15:12:58</td>\n",
              "      <td>Leya Blium</td>\n",
              "      <td>1</td>\n",
              "      <td>2021</td>\n",
              "    </tr>\n",
              "    <tr>\n",
              "      <th>7</th>\n",
              "      <td>2021-10-19 15:12:55</td>\n",
              "      <td>Denis Goodman</td>\n",
              "      <td>1</td>\n",
              "      <td>2021</td>\n",
              "    </tr>\n",
              "    <tr>\n",
              "      <th>8</th>\n",
              "      <td>2021-10-19 15:12:54</td>\n",
              "      <td>Валерий Ковтун</td>\n",
              "      <td>1</td>\n",
              "      <td>2021</td>\n",
              "    </tr>\n",
              "    <tr>\n",
              "      <th>9</th>\n",
              "      <td>2021-10-19 15:12:53</td>\n",
              "      <td>WINPOOH Zzz</td>\n",
              "      <td>1</td>\n",
              "      <td>2021</td>\n",
              "    </tr>\n",
              "  </tbody>\n",
              "</table>\n",
              "</div>"
            ],
            "text/plain": [
              "                 Date            Author  Weekday  Year\n",
              "0 2021-10-19 08:41:41             вДудь        1  2021\n",
              "1 2021-10-19 15:14:19  Татьяна Казымова        1  2021\n",
              "2 2021-10-19 15:13:39               pin        1  2021\n",
              "3 2021-10-19 15:13:32      Rina Прахова        1  2021\n",
              "4 2021-10-19 15:13:24   Benefactor 3000        1  2021\n",
              "5 2021-10-19 15:13:16  Владислав Бугаёв        1  2021\n",
              "6 2021-10-19 15:12:58        Leya Blium        1  2021\n",
              "7 2021-10-19 15:12:55     Denis Goodman        1  2021\n",
              "8 2021-10-19 15:12:54    Валерий Ковтун        1  2021\n",
              "9 2021-10-19 15:12:53       WINPOOH Zzz        1  2021"
            ]
          },
          "metadata": {},
          "execution_count": 9
        }
      ]
    },
    {
      "cell_type": "markdown",
      "metadata": {
        "id": "ndEA3NeBvg5T"
      },
      "source": [
        "# Частота комментирования видео по дням недели в разные годы с 2017 по 2021"
      ]
    },
    {
      "cell_type": "code",
      "metadata": {
        "colab": {
          "base_uri": "https://localhost:8080/"
        },
        "id": "5Xn4n12ZbGCQ",
        "outputId": "342dee69-5b02-487d-cf44-a1ebff82a026"
      },
      "source": [
        "res = df_pqt.groupby(['Year','Weekday'])['Date'].count()\n",
        "print(res)"
      ],
      "execution_count": null,
      "outputs": [
        {
          "output_type": "stream",
          "name": "stdout",
          "text": [
            "Year  Weekday\n",
            "2017  0           22566\n",
            "      1          251866\n",
            "      2          153299\n",
            "      3           78568\n",
            "      4           47541\n",
            "      5           26928\n",
            "      6           19750\n",
            "2018  0           32430\n",
            "      1          328840\n",
            "      2          241857\n",
            "      3          101612\n",
            "      4           80899\n",
            "      5           49372\n",
            "      6           38441\n",
            "2019  0           69907\n",
            "      1          295157\n",
            "      2          257010\n",
            "      3          168509\n",
            "      4           95548\n",
            "      5           72203\n",
            "      6           63835\n",
            "2020  0           87974\n",
            "      1          324300\n",
            "      2          271282\n",
            "      3          151585\n",
            "      4          121292\n",
            "      5           82504\n",
            "      6           68477\n",
            "2021  0           35361\n",
            "      1           92995\n",
            "      2           69233\n",
            "      3          120940\n",
            "      4           77971\n",
            "      5           52231\n",
            "      6           41783\n",
            "Name: Date, dtype: int64\n"
          ]
        }
      ]
    },
    {
      "cell_type": "code",
      "metadata": {
        "colab": {
          "base_uri": "https://localhost:8080/",
          "height": 689
        },
        "id": "AvwRfi-tkJZ2",
        "outputId": "afd41b42-20e1-4ba9-82bb-6a3ddb615633"
      },
      "source": [
        "from IPython.core.display import HTML\n",
        "HTML('''<div class=\"flourish-embed flourish-chart\" data-src=\"visualisation/7767103\"><script src=\"https://public.flourish.studio/resources/embed.js\"></script></div>''')\n"
      ],
      "execution_count": null,
      "outputs": [
        {
          "output_type": "execute_result",
          "data": {
            "text/html": [
              "<div class=\"flourish-embed flourish-chart\" data-src=\"visualisation/7767103\"><script src=\"https://public.flourish.studio/resources/embed.js\"></script></div>"
            ],
            "text/plain": [
              "<IPython.core.display.HTML object>"
            ]
          },
          "metadata": {},
          "execution_count": 1
        }
      ]
    },
    {
      "cell_type": "markdown",
      "metadata": {
        "id": "K0K1-blFvkpv"
      },
      "source": [
        "# Количество комментариев по годам"
      ]
    },
    {
      "cell_type": "code",
      "metadata": {
        "colab": {
          "base_uri": "https://localhost:8080/"
        },
        "id": "gFplaGZarRsa",
        "outputId": "61acae13-ced2-46a8-9499-9a8283f422fd"
      },
      "source": [
        "years = list(df_pqt['Year'])\n",
        "sum = Counter(years)\n",
        "dict(sum)\n",
        "print(sum)"
      ],
      "execution_count": null,
      "outputs": [
        {
          "output_type": "stream",
          "name": "stdout",
          "text": [
            "Counter({2020: 1107414, 2019: 1022169, 2018: 873451, 2017: 600518, 2021: 490514})\n"
          ]
        }
      ]
    },
    {
      "cell_type": "code",
      "metadata": {
        "colab": {
          "base_uri": "https://localhost:8080/",
          "height": 542
        },
        "id": "TzwwUNCgS1IY",
        "outputId": "da03e4fe-78fe-4865-f62a-f15fc729fd00"
      },
      "source": [
        "import plotly.express as px\n",
        "year = [2017, 2018, 2019, 2020, 2021]\n",
        "val = [600518, 873451, 1022169, 1107414, 490514]\n",
        "fig = px.pie(values=val, names=year, title='Количество комментариев по годам', \n",
        "             #цветовые схемы не изменяются!\n",
        "             color_discrete_map = px.colors.qualitative.Set3)\n",
        "fig.update_traces(textposition='inside', textinfo='percent+label')\n",
        "fig.show()"
      ],
      "execution_count": null,
      "outputs": [
        {
          "output_type": "display_data",
          "data": {
            "text/html": [
              "<html>\n",
              "<head><meta charset=\"utf-8\" /></head>\n",
              "<body>\n",
              "    <div>\n",
              "            <script src=\"https://cdnjs.cloudflare.com/ajax/libs/mathjax/2.7.5/MathJax.js?config=TeX-AMS-MML_SVG\"></script><script type=\"text/javascript\">if (window.MathJax) {MathJax.Hub.Config({SVG: {font: \"STIX-Web\"}});}</script>\n",
              "                <script type=\"text/javascript\">window.PlotlyConfig = {MathJaxConfig: 'local'};</script>\n",
              "        <script src=\"https://cdn.plot.ly/plotly-latest.min.js\"></script>    \n",
              "            <div id=\"193fea5c-0002-4720-955c-e9dabd435987\" class=\"plotly-graph-div\" style=\"height:525px; width:100%;\"></div>\n",
              "            <script type=\"text/javascript\">\n",
              "                \n",
              "                    window.PLOTLYENV=window.PLOTLYENV || {};\n",
              "                    \n",
              "                if (document.getElementById(\"193fea5c-0002-4720-955c-e9dabd435987\")) {\n",
              "                    Plotly.newPlot(\n",
              "                        '193fea5c-0002-4720-955c-e9dabd435987',\n",
              "                        [{\"domain\": {\"x\": [0.0, 1.0], \"y\": [0.0, 1.0]}, \"hoverlabel\": {\"namelength\": 0}, \"hovertemplate\": \"label=%{label}<br>value=%{value}\", \"labels\": [2017, 2018, 2019, 2020, 2021], \"legendgroup\": \"\", \"name\": \"\", \"showlegend\": true, \"textinfo\": \"percent+label\", \"textposition\": \"inside\", \"type\": \"pie\", \"values\": [600518, 873451, 1022169, 1107414, 490514]}],\n",
              "                        {\"legend\": {\"tracegroupgap\": 0}, \"template\": {\"data\": {\"bar\": [{\"error_x\": {\"color\": \"#2a3f5f\"}, \"error_y\": {\"color\": \"#2a3f5f\"}, \"marker\": {\"line\": {\"color\": \"#E5ECF6\", \"width\": 0.5}}, \"type\": \"bar\"}], \"barpolar\": [{\"marker\": {\"line\": {\"color\": \"#E5ECF6\", \"width\": 0.5}}, \"type\": \"barpolar\"}], \"carpet\": [{\"aaxis\": {\"endlinecolor\": \"#2a3f5f\", \"gridcolor\": \"white\", \"linecolor\": \"white\", \"minorgridcolor\": \"white\", \"startlinecolor\": \"#2a3f5f\"}, \"baxis\": {\"endlinecolor\": \"#2a3f5f\", \"gridcolor\": \"white\", \"linecolor\": \"white\", \"minorgridcolor\": \"white\", \"startlinecolor\": \"#2a3f5f\"}, \"type\": \"carpet\"}], \"choropleth\": [{\"colorbar\": {\"outlinewidth\": 0, \"ticks\": \"\"}, \"type\": \"choropleth\"}], \"contour\": [{\"colorbar\": {\"outlinewidth\": 0, \"ticks\": \"\"}, \"colorscale\": [[0.0, \"#0d0887\"], [0.1111111111111111, \"#46039f\"], [0.2222222222222222, \"#7201a8\"], [0.3333333333333333, \"#9c179e\"], [0.4444444444444444, \"#bd3786\"], [0.5555555555555556, \"#d8576b\"], [0.6666666666666666, \"#ed7953\"], [0.7777777777777778, \"#fb9f3a\"], [0.8888888888888888, \"#fdca26\"], [1.0, \"#f0f921\"]], \"type\": \"contour\"}], \"contourcarpet\": [{\"colorbar\": {\"outlinewidth\": 0, \"ticks\": \"\"}, \"type\": \"contourcarpet\"}], \"heatmap\": [{\"colorbar\": {\"outlinewidth\": 0, \"ticks\": \"\"}, \"colorscale\": [[0.0, \"#0d0887\"], [0.1111111111111111, \"#46039f\"], [0.2222222222222222, \"#7201a8\"], [0.3333333333333333, \"#9c179e\"], [0.4444444444444444, \"#bd3786\"], [0.5555555555555556, \"#d8576b\"], [0.6666666666666666, \"#ed7953\"], [0.7777777777777778, \"#fb9f3a\"], [0.8888888888888888, \"#fdca26\"], [1.0, \"#f0f921\"]], \"type\": \"heatmap\"}], \"heatmapgl\": [{\"colorbar\": {\"outlinewidth\": 0, \"ticks\": \"\"}, \"colorscale\": [[0.0, \"#0d0887\"], [0.1111111111111111, \"#46039f\"], [0.2222222222222222, \"#7201a8\"], [0.3333333333333333, \"#9c179e\"], [0.4444444444444444, \"#bd3786\"], [0.5555555555555556, \"#d8576b\"], [0.6666666666666666, \"#ed7953\"], [0.7777777777777778, \"#fb9f3a\"], [0.8888888888888888, \"#fdca26\"], [1.0, \"#f0f921\"]], \"type\": \"heatmapgl\"}], \"histogram\": [{\"marker\": {\"colorbar\": {\"outlinewidth\": 0, \"ticks\": \"\"}}, \"type\": \"histogram\"}], \"histogram2d\": [{\"colorbar\": {\"outlinewidth\": 0, \"ticks\": \"\"}, \"colorscale\": [[0.0, \"#0d0887\"], [0.1111111111111111, \"#46039f\"], [0.2222222222222222, \"#7201a8\"], [0.3333333333333333, \"#9c179e\"], [0.4444444444444444, \"#bd3786\"], [0.5555555555555556, \"#d8576b\"], [0.6666666666666666, \"#ed7953\"], [0.7777777777777778, \"#fb9f3a\"], [0.8888888888888888, \"#fdca26\"], [1.0, \"#f0f921\"]], \"type\": \"histogram2d\"}], \"histogram2dcontour\": [{\"colorbar\": {\"outlinewidth\": 0, \"ticks\": \"\"}, \"colorscale\": [[0.0, \"#0d0887\"], [0.1111111111111111, \"#46039f\"], [0.2222222222222222, \"#7201a8\"], [0.3333333333333333, \"#9c179e\"], [0.4444444444444444, \"#bd3786\"], [0.5555555555555556, \"#d8576b\"], [0.6666666666666666, \"#ed7953\"], [0.7777777777777778, \"#fb9f3a\"], [0.8888888888888888, \"#fdca26\"], [1.0, \"#f0f921\"]], \"type\": \"histogram2dcontour\"}], \"mesh3d\": [{\"colorbar\": {\"outlinewidth\": 0, \"ticks\": \"\"}, \"type\": \"mesh3d\"}], \"parcoords\": [{\"line\": {\"colorbar\": {\"outlinewidth\": 0, \"ticks\": \"\"}}, \"type\": \"parcoords\"}], \"pie\": [{\"automargin\": true, \"type\": \"pie\"}], \"scatter\": [{\"marker\": {\"colorbar\": {\"outlinewidth\": 0, \"ticks\": \"\"}}, \"type\": \"scatter\"}], \"scatter3d\": [{\"line\": {\"colorbar\": {\"outlinewidth\": 0, \"ticks\": \"\"}}, \"marker\": {\"colorbar\": {\"outlinewidth\": 0, \"ticks\": \"\"}}, \"type\": \"scatter3d\"}], \"scattercarpet\": [{\"marker\": {\"colorbar\": {\"outlinewidth\": 0, \"ticks\": \"\"}}, \"type\": \"scattercarpet\"}], \"scattergeo\": [{\"marker\": {\"colorbar\": {\"outlinewidth\": 0, \"ticks\": \"\"}}, \"type\": \"scattergeo\"}], \"scattergl\": [{\"marker\": {\"colorbar\": {\"outlinewidth\": 0, \"ticks\": \"\"}}, \"type\": \"scattergl\"}], \"scattermapbox\": [{\"marker\": {\"colorbar\": {\"outlinewidth\": 0, \"ticks\": \"\"}}, \"type\": \"scattermapbox\"}], \"scatterpolar\": [{\"marker\": {\"colorbar\": {\"outlinewidth\": 0, \"ticks\": \"\"}}, \"type\": \"scatterpolar\"}], \"scatterpolargl\": [{\"marker\": {\"colorbar\": {\"outlinewidth\": 0, \"ticks\": \"\"}}, \"type\": \"scatterpolargl\"}], \"scatterternary\": [{\"marker\": {\"colorbar\": {\"outlinewidth\": 0, \"ticks\": \"\"}}, \"type\": \"scatterternary\"}], \"surface\": [{\"colorbar\": {\"outlinewidth\": 0, \"ticks\": \"\"}, \"colorscale\": [[0.0, \"#0d0887\"], [0.1111111111111111, \"#46039f\"], [0.2222222222222222, \"#7201a8\"], [0.3333333333333333, \"#9c179e\"], [0.4444444444444444, \"#bd3786\"], [0.5555555555555556, \"#d8576b\"], [0.6666666666666666, \"#ed7953\"], [0.7777777777777778, \"#fb9f3a\"], [0.8888888888888888, \"#fdca26\"], [1.0, \"#f0f921\"]], \"type\": \"surface\"}], \"table\": [{\"cells\": {\"fill\": {\"color\": \"#EBF0F8\"}, \"line\": {\"color\": \"white\"}}, \"header\": {\"fill\": {\"color\": \"#C8D4E3\"}, \"line\": {\"color\": \"white\"}}, \"type\": \"table\"}]}, \"layout\": {\"annotationdefaults\": {\"arrowcolor\": \"#2a3f5f\", \"arrowhead\": 0, \"arrowwidth\": 1}, \"coloraxis\": {\"colorbar\": {\"outlinewidth\": 0, \"ticks\": \"\"}}, \"colorscale\": {\"diverging\": [[0, \"#8e0152\"], [0.1, \"#c51b7d\"], [0.2, \"#de77ae\"], [0.3, \"#f1b6da\"], [0.4, \"#fde0ef\"], [0.5, \"#f7f7f7\"], [0.6, \"#e6f5d0\"], [0.7, \"#b8e186\"], [0.8, \"#7fbc41\"], [0.9, \"#4d9221\"], [1, \"#276419\"]], \"sequential\": [[0.0, \"#0d0887\"], [0.1111111111111111, \"#46039f\"], [0.2222222222222222, \"#7201a8\"], [0.3333333333333333, \"#9c179e\"], [0.4444444444444444, \"#bd3786\"], [0.5555555555555556, \"#d8576b\"], [0.6666666666666666, \"#ed7953\"], [0.7777777777777778, \"#fb9f3a\"], [0.8888888888888888, \"#fdca26\"], [1.0, \"#f0f921\"]], \"sequentialminus\": [[0.0, \"#0d0887\"], [0.1111111111111111, \"#46039f\"], [0.2222222222222222, \"#7201a8\"], [0.3333333333333333, \"#9c179e\"], [0.4444444444444444, \"#bd3786\"], [0.5555555555555556, \"#d8576b\"], [0.6666666666666666, \"#ed7953\"], [0.7777777777777778, \"#fb9f3a\"], [0.8888888888888888, \"#fdca26\"], [1.0, \"#f0f921\"]]}, \"colorway\": [\"#636efa\", \"#EF553B\", \"#00cc96\", \"#ab63fa\", \"#FFA15A\", \"#19d3f3\", \"#FF6692\", \"#B6E880\", \"#FF97FF\", \"#FECB52\"], \"font\": {\"color\": \"#2a3f5f\"}, \"geo\": {\"bgcolor\": \"white\", \"lakecolor\": \"white\", \"landcolor\": \"#E5ECF6\", \"showlakes\": true, \"showland\": true, \"subunitcolor\": \"white\"}, \"hoverlabel\": {\"align\": \"left\"}, \"hovermode\": \"closest\", \"mapbox\": {\"style\": \"light\"}, \"paper_bgcolor\": \"white\", \"plot_bgcolor\": \"#E5ECF6\", \"polar\": {\"angularaxis\": {\"gridcolor\": \"white\", \"linecolor\": \"white\", \"ticks\": \"\"}, \"bgcolor\": \"#E5ECF6\", \"radialaxis\": {\"gridcolor\": \"white\", \"linecolor\": \"white\", \"ticks\": \"\"}}, \"scene\": {\"xaxis\": {\"backgroundcolor\": \"#E5ECF6\", \"gridcolor\": \"white\", \"gridwidth\": 2, \"linecolor\": \"white\", \"showbackground\": true, \"ticks\": \"\", \"zerolinecolor\": \"white\"}, \"yaxis\": {\"backgroundcolor\": \"#E5ECF6\", \"gridcolor\": \"white\", \"gridwidth\": 2, \"linecolor\": \"white\", \"showbackground\": true, \"ticks\": \"\", \"zerolinecolor\": \"white\"}, \"zaxis\": {\"backgroundcolor\": \"#E5ECF6\", \"gridcolor\": \"white\", \"gridwidth\": 2, \"linecolor\": \"white\", \"showbackground\": true, \"ticks\": \"\", \"zerolinecolor\": \"white\"}}, \"shapedefaults\": {\"line\": {\"color\": \"#2a3f5f\"}}, \"ternary\": {\"aaxis\": {\"gridcolor\": \"white\", \"linecolor\": \"white\", \"ticks\": \"\"}, \"baxis\": {\"gridcolor\": \"white\", \"linecolor\": \"white\", \"ticks\": \"\"}, \"bgcolor\": \"#E5ECF6\", \"caxis\": {\"gridcolor\": \"white\", \"linecolor\": \"white\", \"ticks\": \"\"}}, \"title\": {\"x\": 0.05}, \"xaxis\": {\"automargin\": true, \"gridcolor\": \"white\", \"linecolor\": \"white\", \"ticks\": \"\", \"title\": {\"standoff\": 15}, \"zerolinecolor\": \"white\", \"zerolinewidth\": 2}, \"yaxis\": {\"automargin\": true, \"gridcolor\": \"white\", \"linecolor\": \"white\", \"ticks\": \"\", \"title\": {\"standoff\": 15}, \"zerolinecolor\": \"white\", \"zerolinewidth\": 2}}}, \"title\": {\"text\": \"\\u041a\\u043e\\u043b\\u0438\\u0447\\u0435\\u0441\\u0442\\u0432\\u043e \\u043a\\u043e\\u043c\\u043c\\u0435\\u043d\\u0442\\u0430\\u0440\\u0438\\u0435\\u0432 \\u043f\\u043e \\u0433\\u043e\\u0434\\u0430\\u043c\"}},\n",
              "                        {\"responsive\": true}\n",
              "                    ).then(function(){\n",
              "                            \n",
              "var gd = document.getElementById('193fea5c-0002-4720-955c-e9dabd435987');\n",
              "var x = new MutationObserver(function (mutations, observer) {{\n",
              "        var display = window.getComputedStyle(gd).display;\n",
              "        if (!display || display === 'none') {{\n",
              "            console.log([gd, 'removed!']);\n",
              "            Plotly.purge(gd);\n",
              "            observer.disconnect();\n",
              "        }}\n",
              "}});\n",
              "\n",
              "// Listen for the removal of the full notebook cells\n",
              "var notebookContainer = gd.closest('#notebook-container');\n",
              "if (notebookContainer) {{\n",
              "    x.observe(notebookContainer, {childList: true});\n",
              "}}\n",
              "\n",
              "// Listen for the clearing of the current output cell\n",
              "var outputEl = gd.closest('.output');\n",
              "if (outputEl) {{\n",
              "    x.observe(outputEl, {childList: true});\n",
              "}}\n",
              "\n",
              "                        })\n",
              "                };\n",
              "                \n",
              "            </script>\n",
              "        </div>\n",
              "</body>\n",
              "</html>"
            ]
          },
          "metadata": {}
        }
      ]
    },
    {
      "cell_type": "code",
      "metadata": {
        "id": "oEJOzg66_okI"
      },
      "source": [
        ""
      ],
      "execution_count": null,
      "outputs": []
    },
    {
      "cell_type": "markdown",
      "metadata": {
        "id": "wI34nwqCoo1x"
      },
      "source": [
        "# Частота выхода видео по дням недели"
      ]
    },
    {
      "cell_type": "code",
      "metadata": {
        "id": "xx-B7qJTlJ48"
      },
      "source": [
        "download_url = (\n",
        "     \"https://raw.githubusercontent.com/Levittt/NMSTU_competition_dataset/main/vdud_videos_ver2.csv\"\n",
        ")\n",
        "av = pd.read_csv(download_url)\n",
        "pd.core.frame.DataFrame\n",
        "pd.set_option(\"display.max.columns\", None)\n",
        "av.head(10)"
      ],
      "execution_count": null,
      "outputs": []
    },
    {
      "cell_type": "code",
      "metadata": {
        "colab": {
          "base_uri": "https://localhost:8080/",
          "height": 359
        },
        "id": "uar9ezPylR7y",
        "outputId": "34b5954f-6ba5-4257-a6a8-c6249d985813"
      },
      "source": [
        "av['Date'] = pd.to_datetime(av['Date'], errors='coerce')\n",
        "sLength = len(av['Video ID'])\n",
        "av['Weekday'] = pd.Series(np.random.randn(sLength), index=av.index)\n",
        "av['Weekday'] = av['Date'].apply(lambda x: x.weekday())\n",
        "av.head(10)"
      ],
      "execution_count": null,
      "outputs": [
        {
          "output_type": "execute_result",
          "data": {
            "text/html": [
              "<div>\n",
              "<style scoped>\n",
              "    .dataframe tbody tr th:only-of-type {\n",
              "        vertical-align: middle;\n",
              "    }\n",
              "\n",
              "    .dataframe tbody tr th {\n",
              "        vertical-align: top;\n",
              "    }\n",
              "\n",
              "    .dataframe thead th {\n",
              "        text-align: right;\n",
              "    }\n",
              "</style>\n",
              "<table border=\"1\" class=\"dataframe\">\n",
              "  <thead>\n",
              "    <tr style=\"text-align: right;\">\n",
              "      <th></th>\n",
              "      <th>Date</th>\n",
              "      <th>Time</th>\n",
              "      <th>Title</th>\n",
              "      <th>Description</th>\n",
              "      <th>Image URL</th>\n",
              "      <th>Video ID</th>\n",
              "      <th>Weekday</th>\n",
              "    </tr>\n",
              "  </thead>\n",
              "  <tbody>\n",
              "    <tr>\n",
              "      <th>0</th>\n",
              "      <td>2021-10-19</td>\n",
              "      <td>08:34:47</td>\n",
              "      <td>«Ширли-мырли» – недооцененный шедевр про 90-е ...</td>\n",
              "      <td>Заказывайте посуду Tefal Ingenio на Эльдорадо....</td>\n",
              "      <td>https://i.ytimg.com/vi/QAvHuGRTL0A/default.jpg</td>\n",
              "      <td>QAvHuGRTL0A</td>\n",
              "      <td>1</td>\n",
              "    </tr>\n",
              "    <tr>\n",
              "      <th>1</th>\n",
              "      <td>2021-09-27</td>\n",
              "      <td>12:37:24</td>\n",
              "      <td>Slava Marlow – суперуспех и депрессия в 21 год...</td>\n",
              "      <td>30 дней бесплатно в Storytel каждому новому по...</td>\n",
              "      <td>https://i.ytimg.com/vi/AXFmQ4Z9fXg/default.jpg</td>\n",
              "      <td>AXFmQ4Z9fXg</td>\n",
              "      <td>0</td>\n",
              "    </tr>\n",
              "    <tr>\n",
              "      <th>2</th>\n",
              "      <td>2021-09-13</td>\n",
              "      <td>19:39:33</td>\n",
              "      <td>Усачев – уехал из России. Почему? / вДудь</td>\n",
              "      <td>Заказывайте бритвы Philips SkinIQ на Эльдорадо...</td>\n",
              "      <td>https://i.ytimg.com/vi/JB7E8wuEHjI/default.jpg</td>\n",
              "      <td>JB7E8wuEHjI</td>\n",
              "      <td>0</td>\n",
              "    </tr>\n",
              "    <tr>\n",
              "      <th>3</th>\n",
              "      <td>2021-08-23</td>\n",
              "      <td>19:56:36</td>\n",
              "      <td>Loqiemean – другой рэп / вДудь</td>\n",
              "      <td>Для любой задачи есть профи. Установи приложен...</td>\n",
              "      <td>https://i.ytimg.com/vi/6g6Ap9GZUjk/default.jpg</td>\n",
              "      <td>6g6Ap9GZUjk</td>\n",
              "      <td>0</td>\n",
              "    </tr>\n",
              "    <tr>\n",
              "      <th>4</th>\n",
              "      <td>2021-08-01</td>\n",
              "      <td>14:28:16</td>\n",
              "      <td>Александр Гордон – от «Закрытого показа» до «М...</td>\n",
              "      <td>Купить гриль Weber можно по ссылке: https://bi...</td>\n",
              "      <td>https://i.ytimg.com/vi/wCCvi-LRQrM/default.jpg</td>\n",
              "      <td>wCCvi-LRQrM</td>\n",
              "      <td>6</td>\n",
              "    </tr>\n",
              "    <tr>\n",
              "      <th>5</th>\n",
              "      <td>2021-07-12</td>\n",
              "      <td>19:14:41</td>\n",
              "      <td>Орлов – комедия русской хтони / вДудь</td>\n",
              "      <td>Попробовать новый онлайн-кинотеатр KION: https...</td>\n",
              "      <td>https://i.ytimg.com/vi/5PxzExJQOh4/default.jpg</td>\n",
              "      <td>5PxzExJQOh4</td>\n",
              "      <td>0</td>\n",
              "    </tr>\n",
              "    <tr>\n",
              "      <th>6</th>\n",
              "      <td>2021-06-18</td>\n",
              "      <td>06:33:40</td>\n",
              "      <td>Гордеева – голос русской боли / вДудь</td>\n",
              "      <td>Присоединяемся к акции adidas: https://a.did.a...</td>\n",
              "      <td>https://i.ytimg.com/vi/78b3j2Jk_3A/default.jpg</td>\n",
              "      <td>78b3j2Jk_3A</td>\n",
              "      <td>4</td>\n",
              "    </tr>\n",
              "    <tr>\n",
              "      <th>7</th>\n",
              "      <td>2021-06-03</td>\n",
              "      <td>04:45:57</td>\n",
              "      <td>Тима Белорусских – приговор, дочь, Беларусь / ...</td>\n",
              "      <td>Слушаем аудиокниги всего за 279 рублей в месяц...</td>\n",
              "      <td>https://i.ytimg.com/vi/IE7LDRNwMis/default.jpg</td>\n",
              "      <td>IE7LDRNwMis</td>\n",
              "      <td>3</td>\n",
              "    </tr>\n",
              "    <tr>\n",
              "      <th>8</th>\n",
              "      <td>2021-05-26</td>\n",
              "      <td>09:19:52</td>\n",
              "      <td>Animal Джаz – мировой стрит-арт и русская музы...</td>\n",
              "      <td>Выгодно купить высокоскоростной блендер Moulin...</td>\n",
              "      <td>https://i.ytimg.com/vi/gZExnjUcFwA/default.jpg</td>\n",
              "      <td>gZExnjUcFwA</td>\n",
              "      <td>2</td>\n",
              "    </tr>\n",
              "    <tr>\n",
              "      <th>9</th>\n",
              "      <td>2021-05-12</td>\n",
              "      <td>09:52:59</td>\n",
              "      <td>Ирина Кайратовна – новые звезды из Казахстана ...</td>\n",
              "      <td>Для любой задачи есть профи. \\nУстанови прилож...</td>\n",
              "      <td>https://i.ytimg.com/vi/skLvb0JCNJk/default.jpg</td>\n",
              "      <td>skLvb0JCNJk</td>\n",
              "      <td>2</td>\n",
              "    </tr>\n",
              "  </tbody>\n",
              "</table>\n",
              "</div>"
            ],
            "text/plain": [
              "        Date      Time                                              Title  \\\n",
              "0 2021-10-19  08:34:47  «Ширли-мырли» – недооцененный шедевр про 90-е ...   \n",
              "1 2021-09-27  12:37:24  Slava Marlow – суперуспех и депрессия в 21 год...   \n",
              "2 2021-09-13  19:39:33          Усачев – уехал из России. Почему? / вДудь   \n",
              "3 2021-08-23  19:56:36                     Loqiemean – другой рэп / вДудь   \n",
              "4 2021-08-01  14:28:16  Александр Гордон – от «Закрытого показа» до «М...   \n",
              "5 2021-07-12  19:14:41              Орлов – комедия русской хтони / вДудь   \n",
              "6 2021-06-18  06:33:40              Гордеева – голос русской боли / вДудь   \n",
              "7 2021-06-03  04:45:57  Тима Белорусских – приговор, дочь, Беларусь / ...   \n",
              "8 2021-05-26  09:19:52  Animal Джаz – мировой стрит-арт и русская музы...   \n",
              "9 2021-05-12  09:52:59  Ирина Кайратовна – новые звезды из Казахстана ...   \n",
              "\n",
              "                                         Description  \\\n",
              "0  Заказывайте посуду Tefal Ingenio на Эльдорадо....   \n",
              "1  30 дней бесплатно в Storytel каждому новому по...   \n",
              "2  Заказывайте бритвы Philips SkinIQ на Эльдорадо...   \n",
              "3  Для любой задачи есть профи. Установи приложен...   \n",
              "4  Купить гриль Weber можно по ссылке: https://bi...   \n",
              "5  Попробовать новый онлайн-кинотеатр KION: https...   \n",
              "6  Присоединяемся к акции adidas: https://a.did.a...   \n",
              "7  Слушаем аудиокниги всего за 279 рублей в месяц...   \n",
              "8  Выгодно купить высокоскоростной блендер Moulin...   \n",
              "9  Для любой задачи есть профи. \\nУстанови прилож...   \n",
              "\n",
              "                                        Image URL     Video ID  Weekday  \n",
              "0  https://i.ytimg.com/vi/QAvHuGRTL0A/default.jpg  QAvHuGRTL0A        1  \n",
              "1  https://i.ytimg.com/vi/AXFmQ4Z9fXg/default.jpg  AXFmQ4Z9fXg        0  \n",
              "2  https://i.ytimg.com/vi/JB7E8wuEHjI/default.jpg  JB7E8wuEHjI        0  \n",
              "3  https://i.ytimg.com/vi/6g6Ap9GZUjk/default.jpg  6g6Ap9GZUjk        0  \n",
              "4  https://i.ytimg.com/vi/wCCvi-LRQrM/default.jpg  wCCvi-LRQrM        6  \n",
              "5  https://i.ytimg.com/vi/5PxzExJQOh4/default.jpg  5PxzExJQOh4        0  \n",
              "6  https://i.ytimg.com/vi/78b3j2Jk_3A/default.jpg  78b3j2Jk_3A        4  \n",
              "7  https://i.ytimg.com/vi/IE7LDRNwMis/default.jpg  IE7LDRNwMis        3  \n",
              "8  https://i.ytimg.com/vi/gZExnjUcFwA/default.jpg  gZExnjUcFwA        2  \n",
              "9  https://i.ytimg.com/vi/skLvb0JCNJk/default.jpg  skLvb0JCNJk        2  "
            ]
          },
          "metadata": {},
          "execution_count": 6
        }
      ]
    },
    {
      "cell_type": "code",
      "metadata": {
        "colab": {
          "base_uri": "https://localhost:8080/"
        },
        "id": "80x-3-5FnbZb",
        "outputId": "c8558639-4457-4690-c138-997ccc9cd90a"
      },
      "source": [
        "av_wd = list(av['Weekday'])\n",
        "sum = Counter(av_wd)\n",
        "dict(sum)\n",
        "print(sum)"
      ],
      "execution_count": null,
      "outputs": [
        {
          "output_type": "stream",
          "name": "stdout",
          "text": [
            "Counter({1: 80, 0: 20, 2: 20, 3: 9, 6: 4, 4: 4, 5: 1})\n"
          ]
        }
      ]
    },
    {
      "cell_type": "markdown",
      "metadata": {
        "id": "Mecvtna5-XsH"
      },
      "source": [
        "# Подготовка к определению топов позитивных, негативных и эмоциональных комментаторов"
      ]
    },
    {
      "cell_type": "code",
      "metadata": {
        "colab": {
          "base_uri": "https://localhost:8080/"
        },
        "id": "LWhqw9m7UA3b",
        "outputId": "3e6c9fb4-ac3a-436d-f09b-fecf43c82f48"
      },
      "source": [
        "df_pqt = pd.read_parquet('/content/drive/My Drive/ds/fixed_types.pqt')\n",
        "type(df_pqt)"
      ],
      "execution_count": null,
      "outputs": [
        {
          "output_type": "execute_result",
          "data": {
            "text/plain": [
              "pandas.core.frame.DataFrame"
            ]
          },
          "metadata": {},
          "execution_count": 3
        }
      ]
    },
    {
      "cell_type": "code",
      "metadata": {
        "id": "8Fe4wPN5Hy-A"
      },
      "source": [
        "df_pqt.head(10)"
      ],
      "execution_count": null,
      "outputs": []
    },
    {
      "cell_type": "code",
      "metadata": {
        "id": "QJTU4JbOCDyE"
      },
      "source": [
        "!pip install emoji --upgrade"
      ],
      "execution_count": null,
      "outputs": []
    },
    {
      "cell_type": "code",
      "metadata": {
        "id": "2Bh6Y54Z7ET4"
      },
      "source": [
        "import emoji\n",
        "\n",
        "positive = ['😀','😁','🤣','😂','😉','😊','😍','😘','😎','💋','❤','👍','💕','🔥','🤩','🥰','👏']\n",
        "\n",
        "negative = ['🤔','😒','👎','🙄','🤢','😠','🤮','🤨','😕','👿','🤦‍♂️','🤦'] \n",
        "\n",
        "\n"
      ],
      "execution_count": null,
      "outputs": []
    },
    {
      "cell_type": "code",
      "metadata": {
        "id": "UJnkT122_mbk"
      },
      "source": [
        "df_pqt['if_emoji'] = 0\n",
        "df_pqt['Positive'] = 0\n",
        "df_pqt['Negative'] = 0\n",
        "df_pqt.head(20)"
      ],
      "execution_count": null,
      "outputs": []
    },
    {
      "cell_type": "code",
      "metadata": {
        "id": "rX1elmUANMDU"
      },
      "source": [
        "em = positive + negative\n",
        "for i in range(0,len( df_pqt['Text']),1):\n",
        "  for j in df_pqt['Text'][i]:\n",
        "    if j in em:\n",
        "      df_pqt['if_emoji'][i] = 1\n",
        "  else:\n",
        "    continue"
      ],
      "execution_count": null,
      "outputs": []
    },
    {
      "cell_type": "code",
      "metadata": {
        "id": "i9MBFZw8fVPC"
      },
      "source": [
        "for i in range(0,len( df_pqt['Text']),1):\n",
        "  if  df_pqt['if_emoji'][i] == 1:\n",
        "    for j in df_pqt['Text'][i]:\n",
        "      if emoji.emojize(j) in positive:\n",
        "        df_pqt['Positive'][i] += 1\n",
        "      elif emoji.emojize(j) in negative:\n",
        "        df_pqt['Negative'][i] += 1"
      ],
      "execution_count": null,
      "outputs": []
    },
    {
      "cell_type": "code",
      "metadata": {
        "id": "USBYj1ZVBemq"
      },
      "source": [
        "df_pqt['if_emoji'] = pd.to_numeric(df_pqt['if_emoji'])\n",
        "df_pqt.drop(df_pqt[df_pqt.if_emoji < 1].index, axis=0, inplace=True)"
      ],
      "execution_count": null,
      "outputs": []
    },
    {
      "cell_type": "code",
      "metadata": {
        "id": "uXnnP_fICuGn"
      },
      "source": [
        "df_pqt['Positive'] = pd.to_numeric(df_pqt['Positive'])\n",
        "df_pqt['Negative'] = pd.to_numeric(df_pqt['Negative'])\n",
        "df_pqt['sum'] = 0\n",
        "df_pqt['sum'] = pd.to_numeric(df_pqt['sum'])"
      ],
      "execution_count": null,
      "outputs": []
    },
    {
      "cell_type": "code",
      "metadata": {
        "id": "qQCbjpLiCKj6"
      },
      "source": [
        "df_pqt['sum'] = df_pqt[['Positive','Negative']].sum(axis=1)"
      ],
      "execution_count": null,
      "outputs": []
    },
    {
      "cell_type": "code",
      "metadata": {
        "id": "s3rDTgD1IPcO"
      },
      "source": [
        "del df_pqt['if_emoji']"
      ],
      "execution_count": null,
      "outputs": []
    },
    {
      "cell_type": "code",
      "metadata": {
        "colab": {
          "base_uri": "https://localhost:8080/"
        },
        "id": "4S55ubtSHot5",
        "outputId": "d5293e71-e68e-49d9-93ee-d0c3f2e48ce5"
      },
      "source": [
        "#Определение эмоциональной окраски канала\n",
        "sum_positive = df_pqt['Positive'].sum()\n",
        "sum_negative = df_pqt['Negative'].sum()\n",
        "print(sum_positive, sum_negative)"
      ],
      "execution_count": null,
      "outputs": [
        {
          "output_type": "stream",
          "name": "stdout",
          "text": [
            "359328 47544\n"
          ]
        }
      ]
    },
    {
      "cell_type": "markdown",
      "metadata": {
        "id": "iAWq16NpveBS"
      },
      "source": [
        "# ТОПЫ"
      ]
    },
    {
      "cell_type": "markdown",
      "metadata": {
        "id": "ScafTfEBd4SX"
      },
      "source": [
        "ИСПОЛЬЗОВАНИЕ ПОЗИТИВНЫХ И НЕГАТИВНЫХ ЭМОДЗИ ПО АВТОРАМ"
      ]
    },
    {
      "cell_type": "code",
      "metadata": {
        "colab": {
          "base_uri": "https://localhost:8080/"
        },
        "id": "9ku62bpJuguw",
        "outputId": "e6fd643c-cfb4-4319-bb38-b5b76653561f"
      },
      "source": [
        "#Файл промежуточный, сохранила на чем остановилась - подсчитаны позитивные, негативные и сумма\n",
        "df_pqt = pd.read_parquet('/content/drive/My Drive/ds/emoji_sum.pqt')\n",
        "type(df_pqt)"
      ],
      "execution_count": null,
      "outputs": [
        {
          "output_type": "execute_result",
          "data": {
            "text/plain": [
              "pandas.core.frame.DataFrame"
            ]
          },
          "metadata": {},
          "execution_count": 58
        }
      ]
    },
    {
      "cell_type": "code",
      "metadata": {
        "colab": {
          "base_uri": "https://localhost:8080/",
          "height": 545
        },
        "id": "6N2YJyBOspP6",
        "outputId": "369c323c-c465-4d77-f585-6e2fc98a001f"
      },
      "source": [
        "all_positive = df_pqt.groupby('Author').agg({'Positive': sum})\n",
        "top_positive = all_positive.sort_values(by='Positive', ascending=False)\n",
        "top_positive.head(15)"
      ],
      "execution_count": null,
      "outputs": [
        {
          "output_type": "execute_result",
          "data": {
            "text/html": [
              "<div>\n",
              "<style scoped>\n",
              "    .dataframe tbody tr th:only-of-type {\n",
              "        vertical-align: middle;\n",
              "    }\n",
              "\n",
              "    .dataframe tbody tr th {\n",
              "        vertical-align: top;\n",
              "    }\n",
              "\n",
              "    .dataframe thead th {\n",
              "        text-align: right;\n",
              "    }\n",
              "</style>\n",
              "<table border=\"1\" class=\"dataframe\">\n",
              "  <thead>\n",
              "    <tr style=\"text-align: right;\">\n",
              "      <th></th>\n",
              "      <th>Positive</th>\n",
              "    </tr>\n",
              "    <tr>\n",
              "      <th>Author</th>\n",
              "      <th></th>\n",
              "    </tr>\n",
              "  </thead>\n",
              "  <tbody>\n",
              "    <tr>\n",
              "      <th>Влад Раздолбаев</th>\n",
              "      <td>20695</td>\n",
              "    </tr>\n",
              "    <tr>\n",
              "      <th>Sirgeli Saltanat</th>\n",
              "      <td>621</td>\n",
              "    </tr>\n",
              "    <tr>\n",
              "      <th>Иван Иванов</th>\n",
              "      <td>482</td>\n",
              "    </tr>\n",
              "    <tr>\n",
              "      <th>nerd</th>\n",
              "      <td>475</td>\n",
              "    </tr>\n",
              "    <tr>\n",
              "      <th>kinoBOOMmusic</th>\n",
              "      <td>465</td>\n",
              "    </tr>\n",
              "    <tr>\n",
              "      <th>: D</th>\n",
              "      <td>439</td>\n",
              "    </tr>\n",
              "    <tr>\n",
              "      <th>Калуст Хрхрян</th>\n",
              "      <td>417</td>\n",
              "    </tr>\n",
              "    <tr>\n",
              "      <th>Мансур Аргимбаев</th>\n",
              "      <td>400</td>\n",
              "    </tr>\n",
              "    <tr>\n",
              "      <th>Рустам Зияев</th>\n",
              "      <td>286</td>\n",
              "    </tr>\n",
              "    <tr>\n",
              "      <th>Анна</th>\n",
              "      <td>266</td>\n",
              "    </tr>\n",
              "    <tr>\n",
              "      <th>STaZHaR_9</th>\n",
              "      <td>258</td>\n",
              "    </tr>\n",
              "    <tr>\n",
              "      <th>Мира Белозёрова</th>\n",
              "      <td>249</td>\n",
              "    </tr>\n",
              "    <tr>\n",
              "      <th>Denis Bartov</th>\n",
              "      <td>228</td>\n",
              "    </tr>\n",
              "    <tr>\n",
              "      <th>Саня Снимай</th>\n",
              "      <td>222</td>\n",
              "    </tr>\n",
              "    <tr>\n",
              "      <th>Алексей Мацков</th>\n",
              "      <td>221</td>\n",
              "    </tr>\n",
              "  </tbody>\n",
              "</table>\n",
              "</div>"
            ],
            "text/plain": [
              "                  Positive\n",
              "Author                    \n",
              "Влад Раздолбаев      20695\n",
              "Sirgeli Saltanat       621\n",
              "Иван Иванов            482\n",
              "nerd                   475\n",
              "kinoBOOMmusic          465\n",
              ": D                    439\n",
              "Калуст Хрхрян          417\n",
              "Мансур Аргимбаев       400\n",
              "Рустам Зияев           286\n",
              "Анна                   266\n",
              "STaZHaR_9              258\n",
              "Мира Белозёрова        249\n",
              "Denis Bartov           228\n",
              "Саня Снимай            222\n",
              "Алексей Мацков         221"
            ]
          },
          "metadata": {},
          "execution_count": 64
        }
      ]
    },
    {
      "cell_type": "code",
      "metadata": {
        "id": "pe-yLGUBH88O"
      },
      "source": [
        "#То же самое\n",
        "test = df_pqt.groupby(['Author'])['Positive'].sum()\n",
        "test = test.sort_values( ascending=False)\n",
        "test.head(15)"
      ],
      "execution_count": null,
      "outputs": []
    },
    {
      "cell_type": "code",
      "metadata": {
        "colab": {
          "base_uri": "https://localhost:8080/",
          "height": 483
        },
        "id": "AfRjjfXnszwA",
        "outputId": "b85615b4-1d0b-4bd8-9e2e-3849e461eb3b"
      },
      "source": [
        "all_negative = df_pqt.groupby('Author').agg({'Negative': sum})\n",
        "top_negative = all_negative.sort_values(by='Negative', ascending=False)\n",
        "top_negative.head(13)"
      ],
      "execution_count": null,
      "outputs": [
        {
          "output_type": "execute_result",
          "data": {
            "text/html": [
              "<div>\n",
              "<style scoped>\n",
              "    .dataframe tbody tr th:only-of-type {\n",
              "        vertical-align: middle;\n",
              "    }\n",
              "\n",
              "    .dataframe tbody tr th {\n",
              "        vertical-align: top;\n",
              "    }\n",
              "\n",
              "    .dataframe thead th {\n",
              "        text-align: right;\n",
              "    }\n",
              "</style>\n",
              "<table border=\"1\" class=\"dataframe\">\n",
              "  <thead>\n",
              "    <tr style=\"text-align: right;\">\n",
              "      <th></th>\n",
              "      <th>Negative</th>\n",
              "    </tr>\n",
              "    <tr>\n",
              "      <th>Author</th>\n",
              "      <th></th>\n",
              "    </tr>\n",
              "  </thead>\n",
              "  <tbody>\n",
              "    <tr>\n",
              "      <th>Ris Syr</th>\n",
              "      <td>927</td>\n",
              "    </tr>\n",
              "    <tr>\n",
              "      <th>Игорь Федосеев</th>\n",
              "      <td>411</td>\n",
              "    </tr>\n",
              "    <tr>\n",
              "      <th>Арнольд Примаков</th>\n",
              "      <td>214</td>\n",
              "    </tr>\n",
              "    <tr>\n",
              "      <th>Муйддин Н.</th>\n",
              "      <td>200</td>\n",
              "    </tr>\n",
              "    <tr>\n",
              "      <th>nobody</th>\n",
              "      <td>140</td>\n",
              "    </tr>\n",
              "    <tr>\n",
              "      <th>Иван Иванов</th>\n",
              "      <td>116</td>\n",
              "    </tr>\n",
              "    <tr>\n",
              "      <th>Vadim Zasovenko</th>\n",
              "      <td>88</td>\n",
              "    </tr>\n",
              "    <tr>\n",
              "      <th>Артем Захаров</th>\n",
              "      <td>84</td>\n",
              "    </tr>\n",
              "    <tr>\n",
              "      <th>олег чередников</th>\n",
              "      <td>82</td>\n",
              "    </tr>\n",
              "    <tr>\n",
              "      <th>мобильный репортер</th>\n",
              "      <td>79</td>\n",
              "    </tr>\n",
              "    <tr>\n",
              "      <th>Борис Муракин</th>\n",
              "      <td>78</td>\n",
              "    </tr>\n",
              "    <tr>\n",
              "      <th>Владимир Шувалов</th>\n",
              "      <td>77</td>\n",
              "    </tr>\n",
              "    <tr>\n",
              "      <th>X NeWorld</th>\n",
              "      <td>77</td>\n",
              "    </tr>\n",
              "  </tbody>\n",
              "</table>\n",
              "</div>"
            ],
            "text/plain": [
              "                    Negative\n",
              "Author                      \n",
              "Ris Syr                  927\n",
              "Игорь Федосеев           411\n",
              "Арнольд Примаков         214\n",
              "Муйддин Н.               200\n",
              "nobody                   140\n",
              "Иван Иванов              116\n",
              "Vadim Zasovenko           88\n",
              "Артем Захаров             84\n",
              "олег чередников           82\n",
              "мобильный репортер        79\n",
              "Борис Муракин             78\n",
              "Владимир Шувалов          77\n",
              "X NeWorld                 77"
            ]
          },
          "metadata": {},
          "execution_count": 43
        }
      ]
    },
    {
      "cell_type": "code",
      "metadata": {
        "colab": {
          "base_uri": "https://localhost:8080/",
          "height": 545
        },
        "id": "lUbwXB29tRxF",
        "outputId": "16590927-b72c-486b-c8c0-1e436f09749f"
      },
      "source": [
        "all_emotional = df_pqt.groupby('Author').agg({'sum': sum})\n",
        "top_emotional = all_emotional.sort_values(by='sum', ascending=False)\n",
        "top_emotional.head(15)"
      ],
      "execution_count": null,
      "outputs": [
        {
          "output_type": "execute_result",
          "data": {
            "text/html": [
              "<div>\n",
              "<style scoped>\n",
              "    .dataframe tbody tr th:only-of-type {\n",
              "        vertical-align: middle;\n",
              "    }\n",
              "\n",
              "    .dataframe tbody tr th {\n",
              "        vertical-align: top;\n",
              "    }\n",
              "\n",
              "    .dataframe thead th {\n",
              "        text-align: right;\n",
              "    }\n",
              "</style>\n",
              "<table border=\"1\" class=\"dataframe\">\n",
              "  <thead>\n",
              "    <tr style=\"text-align: right;\">\n",
              "      <th></th>\n",
              "      <th>sum</th>\n",
              "    </tr>\n",
              "    <tr>\n",
              "      <th>Author</th>\n",
              "      <th></th>\n",
              "    </tr>\n",
              "  </thead>\n",
              "  <tbody>\n",
              "    <tr>\n",
              "      <th>Влад Раздолбаев</th>\n",
              "      <td>20695</td>\n",
              "    </tr>\n",
              "    <tr>\n",
              "      <th>Ris Syr</th>\n",
              "      <td>927</td>\n",
              "    </tr>\n",
              "    <tr>\n",
              "      <th>Sirgeli Saltanat</th>\n",
              "      <td>622</td>\n",
              "    </tr>\n",
              "    <tr>\n",
              "      <th>Иван Иванов</th>\n",
              "      <td>598</td>\n",
              "    </tr>\n",
              "    <tr>\n",
              "      <th>nerd</th>\n",
              "      <td>475</td>\n",
              "    </tr>\n",
              "    <tr>\n",
              "      <th>kinoBOOMmusic</th>\n",
              "      <td>465</td>\n",
              "    </tr>\n",
              "    <tr>\n",
              "      <th>: D</th>\n",
              "      <td>439</td>\n",
              "    </tr>\n",
              "    <tr>\n",
              "      <th>Калуст Хрхрян</th>\n",
              "      <td>417</td>\n",
              "    </tr>\n",
              "    <tr>\n",
              "      <th>Игорь Федосеев</th>\n",
              "      <td>411</td>\n",
              "    </tr>\n",
              "    <tr>\n",
              "      <th>Мансур Аргимбаев</th>\n",
              "      <td>400</td>\n",
              "    </tr>\n",
              "    <tr>\n",
              "      <th>Рустам Зияев</th>\n",
              "      <td>290</td>\n",
              "    </tr>\n",
              "    <tr>\n",
              "      <th>Анна</th>\n",
              "      <td>279</td>\n",
              "    </tr>\n",
              "    <tr>\n",
              "      <th>STaZHaR_9</th>\n",
              "      <td>258</td>\n",
              "    </tr>\n",
              "    <tr>\n",
              "      <th>Мира Белозёрова</th>\n",
              "      <td>251</td>\n",
              "    </tr>\n",
              "    <tr>\n",
              "      <th>Саня Снимай</th>\n",
              "      <td>238</td>\n",
              "    </tr>\n",
              "  </tbody>\n",
              "</table>\n",
              "</div>"
            ],
            "text/plain": [
              "                    sum\n",
              "Author                 \n",
              "Влад Раздолбаев   20695\n",
              "Ris Syr             927\n",
              "Sirgeli Saltanat    622\n",
              "Иван Иванов         598\n",
              "nerd                475\n",
              "kinoBOOMmusic       465\n",
              ": D                 439\n",
              "Калуст Хрхрян       417\n",
              "Игорь Федосеев      411\n",
              "Мансур Аргимбаев    400\n",
              "Рустам Зияев        290\n",
              "Анна                279\n",
              "STaZHaR_9           258\n",
              "Мира Белозёрова     251\n",
              "Саня Снимай         238"
            ]
          },
          "metadata": {},
          "execution_count": 33
        }
      ]
    },
    {
      "cell_type": "code",
      "metadata": {
        "id": "Wdtf91KJ8w4A"
      },
      "source": [
        "for i in range(0,len(df_pqt['Author']),1):\n",
        "  if df_pqt['Author'][i] == 'Влад Раздолбаев':\n",
        "    print(df_pqt['Text'][i])"
      ],
      "execution_count": null,
      "outputs": []
    },
    {
      "cell_type": "code",
      "metadata": {
        "id": "ukIjIYwTFTtd"
      },
      "source": [
        "for i in range(0,len(df_pqt['Author']),1):\n",
        "  if df_pqt['Author'][i] == 'Ris Syr':\n",
        "    print(df_pqt['Text'][i])"
      ],
      "execution_count": null,
      "outputs": []
    },
    {
      "cell_type": "code",
      "metadata": {
        "colab": {
          "base_uri": "https://localhost:8080/"
        },
        "id": "ftKVg77iv1u8",
        "outputId": "db0f9645-44df-4060-cd3f-29ea65125e44"
      },
      "source": [
        "#Не включаем ботов и не уникальных авторов\n",
        "arr_authors = ['Sirgeli Saltanat', 'kinoBOOMmusic', 'Калуст Хрхрян', 'Мансур Аргимбаев', 'Рустам Зияев', 'STaZHaR_9', \n",
        "               'Мира Белозёрова','Ris Syr', 'Игорь Федосеев', 'Арнольд Примаков', 'Муйддин Н.', 'nobody', 'Vadim Zasovenko', 'Артем Захаров', 'олег чередников',\n",
        "               'мобильный репортер', 'Саня Снимай', 'Denis Bartov', 'Борис Муракин', 'Алексей Мацков', 'Владимир Шувалов']\n",
        "for i in range(0,len(df_pqt['Author']),1):\n",
        "  for j in arr_authors:\n",
        "    if df_pqt['Author'][i] == j:\n",
        "      print(df_pqt['Author'][i], ' ', df_pqt['Avatar'][i])\n",
        "      arr_authors.remove(j)"
      ],
      "execution_count": null,
      "outputs": [
        {
          "output_type": "stream",
          "name": "stdout",
          "text": [
            "Калуст Хрхрян   https://yt3.ggpht.com/ytc/AKedOLRrblJLKuM1LYyjYPleiE-ZxLxAXQjYuw1tDv9x=s48-c-k-c0x00ffffff-no-rj\n",
            "олег чередников   https://yt3.ggpht.com/ytc/AKedOLQxGBRMnSTaB6dfTiEWLl9s5-9j7EnXb1wpn-Yy3w=s48-c-k-c0x00ffffff-no-rj\n",
            "kinoBOOMmusic   https://yt3.ggpht.com/ytc/AKedOLTXkAVHQ3a8jQyoGk2YfyPYL9sSpndrSU05ZsUvUQ=s48-c-k-c0x00ffffff-no-rj\n",
            "Муйддин Н.   https://yt3.ggpht.com/ytc/AKedOLTv0tr9oZaFBdlyhymMYcNHPRxSWVKHzNfKPg=s48-c-k-c0x00ffffff-no-rj\n",
            "STaZHaR_9   https://yt3.ggpht.com/-Qsiq_eqCND6GaWzE3YjSCpyRYjPqKeKR0iJg-xePAMq26PEAQkz4HIDbFRT3jLcq1KOzPfoRQ=s48-c-k-c0x00ffffff-no-rj\n",
            "Рустам Зияев   https://yt3.ggpht.com/ytc/AKedOLRq3sCXFeF_nQ57N-Q1RHSN1VqZGxYmNMG60tl8=s48-c-k-c0x00ffffff-no-rj\n",
            "Саня Снимай   https://yt3.ggpht.com/ytc/AKedOLSKi1fXp8mjOAZ3DrxxXADzKvqh4WXPR4euxyM6Ug=s48-c-k-c0x00ffffff-no-rj\n",
            "Denis Bartov   https://yt3.ggpht.com/ytc/AKedOLSBqaHi2e9JkPL34zgdah40XLrYKUKgAG2a0LiZUw=s48-c-k-c0x00ffffff-no-rj\n",
            "Мансур Аргимбаев   https://yt3.ggpht.com/ytc/AKedOLS1QAMINpsIcTRdDyApwkQE1Ea1qZTZ4sOUuA=s48-c-k-c0x00ffffff-no-rj\n",
            "Борис Муракин   https://yt3.ggpht.com/ytc/AKedOLTHnIEFVk3NuUy7VaCcqq8z3ExU2A1_R9ITCw=s48-c-k-c0x00ffffff-no-rj\n",
            "Владимир Шувалов   https://yt3.ggpht.com/ytc/AKedOLQQj5YY4yrRiP-ww2sop6ljdLqY7-GIygvq7IJ4=s48-c-k-c0x00ffffff-no-rj\n",
            "Арнольд Примаков   https://yt3.ggpht.com/ytc/AKedOLQjlpd3xyXEC9VyjnHq_Jl_4MNhsWfpAUGLdg=s48-c-k-c0x00ffffff-no-rj\n",
            "Артем Захаров   https://yt3.ggpht.com/ytc/AKedOLR9HMa068cFmZ1Ea4wpIEpSwzM99AZ0yES0A8wx=s48-c-k-c0x00ffffff-no-rj\n",
            "Алексей Мацков   https://yt3.ggpht.com/ytc/AKedOLT6jQzFGMvAhme0vkjIIJkt3BiqfbEClDLRlQ=s48-c-k-c0x00ffffff-no-rj\n",
            "nobody   https://yt3.ggpht.com/r1wbzo1rNMZ_7moc_w4MxzeITvOoy-iSy-ZspQNNK1jXsxSZGo45FEsUdGYlpiaIq3Q6dnPN1g=s48-c-k-c0x00ffffff-no-rj\n",
            "Мира Белозёрова   https://yt3.ggpht.com/ytc/AKedOLQnxUCBO2frTHz9GR96aS7V0HO8dAHZ8DugLyehfg=s48-c-k-c0x00ffffff-no-rj\n",
            "Ris Syr   https://yt3.ggpht.com/ytc/AKedOLSNC9K5mOnsEYCe5l_IXkwTe5u9qjlekxdYUlbm=s48-c-k-c0x00ffffff-no-rj\n",
            "Игорь Федосеев   https://yt3.ggpht.com/ytc/AKedOLQkcFC0cdNp4Lx-MU2iQnUpXBrSThc9w20G=s48-c-k-c0x00ffffff-no-rj\n",
            "мобильный репортер   https://yt3.ggpht.com/ytc/AKedOLSduw0MyVhuXgokY1y6sBBbzPeOOYkl6iXoHvBm=s48-c-k-c0x00ffffff-no-rj\n",
            "Vadim Zasovenko   https://yt3.ggpht.com/ytc/AKedOLRL9LufRrH0Pt11rxzowRd47eAhNiRsLvua2ckx=s48-c-k-c0x00ffffff-no-rj\n",
            "Sirgeli Saltanat   https://yt3.ggpht.com/ytc/AKedOLSSysB7NLT9XwVZoBZK55FmnBxX514QPFG-On1_=s48-c-k-c0x00ffffff-no-rj\n"
          ]
        }
      ]
    },
    {
      "cell_type": "code",
      "metadata": {
        "colab": {
          "base_uri": "https://localhost:8080/",
          "height": 689
        },
        "id": "eAgdQ6Mv_SQy",
        "outputId": "d775c83e-00d3-4a11-a2e3-75b7d7875722"
      },
      "source": [
        "from IPython.core.display import HTML\n",
        "HTML('''<div class=\"flourish-embed flourish-bar-chart-race\" data-src=\"visualisation/7821096\"><script src=\"https://public.flourish.studio/resources/embed.js\"></script></div>''')"
      ],
      "execution_count": null,
      "outputs": [
        {
          "output_type": "execute_result",
          "data": {
            "text/html": [
              "<div class=\"flourish-embed flourish-bar-chart-race\" data-src=\"visualisation/7821096\"><script src=\"https://public.flourish.studio/resources/embed.js\"></script></div>"
            ],
            "text/plain": [
              "<IPython.core.display.HTML object>"
            ]
          },
          "metadata": {},
          "execution_count": 71
        }
      ]
    },
    {
      "cell_type": "code",
      "metadata": {
        "colab": {
          "base_uri": "https://localhost:8080/",
          "height": 689
        },
        "id": "sUr-MIvZF_ZL",
        "outputId": "0eb4be66-cd26-4cb3-e417-a2d92e66eb4f"
      },
      "source": [
        "from IPython.core.display import HTML\n",
        "HTML('''<div class=\"flourish-embed flourish-bar-chart-race\" data-src=\"visualisation/7821446\"><script src=\"https://public.flourish.studio/resources/embed.js\"></script></div>''')"
      ],
      "execution_count": null,
      "outputs": [
        {
          "output_type": "execute_result",
          "data": {
            "text/html": [
              "<div class=\"flourish-embed flourish-bar-chart-race\" data-src=\"visualisation/7821446\"><script src=\"https://public.flourish.studio/resources/embed.js\"></script></div>"
            ],
            "text/plain": [
              "<IPython.core.display.HTML object>"
            ]
          },
          "metadata": {},
          "execution_count": 70
        }
      ]
    },
    {
      "cell_type": "code",
      "metadata": {
        "colab": {
          "base_uri": "https://localhost:8080/",
          "height": 689
        },
        "id": "dX0hXGhlGX0S",
        "outputId": "3ae57bbb-567e-41fc-fd7d-3dedc5f30c49"
      },
      "source": [
        "from IPython.core.display import HTML\n",
        "HTML('''<div class=\"flourish-embed flourish-bar-chart-race\" data-src=\"visualisation/7821581\"><script src=\"https://public.flourish.studio/resources/embed.js\"></script></div>''')"
      ],
      "execution_count": null,
      "outputs": [
        {
          "output_type": "execute_result",
          "data": {
            "text/html": [
              "<div class=\"flourish-embed flourish-bar-chart-race\" data-src=\"visualisation/7821581\"><script src=\"https://public.flourish.studio/resources/embed.js\"></script></div>"
            ],
            "text/plain": [
              "<IPython.core.display.HTML object>"
            ]
          },
          "metadata": {},
          "execution_count": 72
        }
      ]
    }
  ]
}